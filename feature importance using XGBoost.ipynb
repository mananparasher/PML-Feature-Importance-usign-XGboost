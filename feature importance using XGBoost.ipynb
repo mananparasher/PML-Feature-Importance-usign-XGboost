{
 "cells": [
  {
   "cell_type": "markdown",
   "metadata": {},
   "source": [
    "## Import Libraries"
   ]
  },
  {
   "cell_type": "code",
   "execution_count": 23,
   "metadata": {},
   "outputs": [],
   "source": [
    "import pathlib\n",
    "import numpy as np\n",
    "import pandas as pd\n",
    "from xgboost import XGBClassifier\n",
    "from matplotlib import pyplot\n",
    "import seaborn as sns\n",
    "import matplotlib.pyplot as plt\n",
    "from sklearn.preprocessing import OrdinalEncoder\n",
    "from sklearn.model_selection import train_test_split\n",
    "from sklearn.metrics import classification_report"
   ]
  },
  {
   "cell_type": "markdown",
   "metadata": {},
   "source": [
    "## Import Dataset"
   ]
  },
  {
   "cell_type": "code",
   "execution_count": 2,
   "metadata": {
    "colab": {
     "base_uri": "https://localhost:8080/",
     "height": 254
    },
    "colab_type": "code",
    "id": "z9xsFmSXhPBt",
    "outputId": "764c8b74-a2ce-4e8d-d726-d9cb2bf27b54"
   },
   "outputs": [
    {
     "name": "stdout",
     "output_type": "stream",
     "text": [
      "Warning: Failed to set locale category LC_NUMERIC to en_IN.\n",
      "Warning: Failed to set locale category LC_TIME to en_IN.\n",
      "Warning: Failed to set locale category LC_COLLATE to en_IN.\n",
      "Warning: Failed to set locale category LC_MONETARY to en_IN.\n",
      "Warning: Failed to set locale category LC_MESSAGES to en_IN.\n",
      "--2020-07-15 18:09:49--  https://archive.ics.uci.edu/ml/machine-learning-databases/00459/avila.zip\n",
      "Resolving archive.ics.uci.edu (archive.ics.uci.edu)... 128.195.10.252\n",
      "Connecting to archive.ics.uci.edu (archive.ics.uci.edu)|128.195.10.252|:443... connected.\n",
      "HTTP request sent, awaiting response... 200 OK\n",
      "Length: 584600 (571K) [application/x-httpd-php]\n",
      "Saving to: ‘avila.zip’\n",
      "\n",
      "avila.zip           100%[===================>] 570.90K   690KB/s    in 0.8s    \n",
      "\n",
      "2020-07-15 18:09:50 (690 KB/s) - ‘avila.zip’ saved [584600/584600]\n",
      "\n",
      "Archive:  avila.zip\n",
      "   creating: avila/\n",
      "  inflating: avila/avila-tr.txt      \n",
      "  inflating: avila/avila-ts.txt      \n",
      "  inflating: avila/avila-description.txt  \n"
     ]
    }
   ],
   "source": [
    "!wget https://archive.ics.uci.edu/ml/machine-learning-databases/00459/avila.zip\n",
    "!unzip avila.zip"
   ]
  },
  {
   "cell_type": "code",
   "execution_count": 3,
   "metadata": {
    "colab": {
     "base_uri": "https://localhost:8080/",
     "height": 407
    },
    "colab_type": "code",
    "id": "7QK1Gv0Qfu5Y",
    "outputId": "81eca0fb-bb6e-4d83-effc-2d700b8afa57"
   },
   "outputs": [
    {
     "data": {
      "text/html": [
       "<div>\n",
       "<style scoped>\n",
       "    .dataframe tbody tr th:only-of-type {\n",
       "        vertical-align: middle;\n",
       "    }\n",
       "\n",
       "    .dataframe tbody tr th {\n",
       "        vertical-align: top;\n",
       "    }\n",
       "\n",
       "    .dataframe thead th {\n",
       "        text-align: right;\n",
       "    }\n",
       "</style>\n",
       "<table border=\"1\" class=\"dataframe\">\n",
       "  <thead>\n",
       "    <tr style=\"text-align: right;\">\n",
       "      <th></th>\n",
       "      <th>intercolumnar_distance</th>\n",
       "      <th>upper_margin</th>\n",
       "      <th>lower_margin</th>\n",
       "      <th>exploitation</th>\n",
       "      <th>row_number</th>\n",
       "      <th>modular</th>\n",
       "      <th>interlinear_spacing</th>\n",
       "      <th>weight</th>\n",
       "      <th>peak_number</th>\n",
       "      <th>modular_ratio</th>\n",
       "      <th>class</th>\n",
       "    </tr>\n",
       "  </thead>\n",
       "  <tbody>\n",
       "    <tr>\n",
       "      <th>0</th>\n",
       "      <td>-3.498799</td>\n",
       "      <td>0.250492</td>\n",
       "      <td>0.232070</td>\n",
       "      <td>1.224178</td>\n",
       "      <td>-4.922215</td>\n",
       "      <td>1.145386</td>\n",
       "      <td>0.182426</td>\n",
       "      <td>-0.165983</td>\n",
       "      <td>-0.123005</td>\n",
       "      <td>1.087144</td>\n",
       "      <td>W</td>\n",
       "    </tr>\n",
       "    <tr>\n",
       "      <th>1</th>\n",
       "      <td>0.204355</td>\n",
       "      <td>-0.354049</td>\n",
       "      <td>0.320980</td>\n",
       "      <td>0.410166</td>\n",
       "      <td>-0.989576</td>\n",
       "      <td>-2.218127</td>\n",
       "      <td>0.220177</td>\n",
       "      <td>0.181844</td>\n",
       "      <td>2.090879</td>\n",
       "      <td>-2.009758</td>\n",
       "      <td>A</td>\n",
       "    </tr>\n",
       "    <tr>\n",
       "      <th>2</th>\n",
       "      <td>0.759828</td>\n",
       "      <td>-1.304042</td>\n",
       "      <td>-0.023991</td>\n",
       "      <td>-0.973663</td>\n",
       "      <td>-0.006417</td>\n",
       "      <td>-0.349509</td>\n",
       "      <td>-0.421580</td>\n",
       "      <td>-0.450127</td>\n",
       "      <td>0.469443</td>\n",
       "      <td>0.060952</td>\n",
       "      <td>I</td>\n",
       "    </tr>\n",
       "    <tr>\n",
       "      <th>3</th>\n",
       "      <td>-0.005490</td>\n",
       "      <td>0.360409</td>\n",
       "      <td>0.281860</td>\n",
       "      <td>-0.213479</td>\n",
       "      <td>-1.168333</td>\n",
       "      <td>-1.013906</td>\n",
       "      <td>-0.346080</td>\n",
       "      <td>1.176165</td>\n",
       "      <td>0.968347</td>\n",
       "      <td>-0.627999</td>\n",
       "      <td>E</td>\n",
       "    </tr>\n",
       "    <tr>\n",
       "      <th>4</th>\n",
       "      <td>0.080916</td>\n",
       "      <td>0.101320</td>\n",
       "      <td>0.104040</td>\n",
       "      <td>0.140490</td>\n",
       "      <td>0.261718</td>\n",
       "      <td>0.480988</td>\n",
       "      <td>0.710932</td>\n",
       "      <td>-0.253430</td>\n",
       "      <td>-0.497183</td>\n",
       "      <td>0.155681</td>\n",
       "      <td>A</td>\n",
       "    </tr>\n",
       "    <tr>\n",
       "      <th>...</th>\n",
       "      <td>...</td>\n",
       "      <td>...</td>\n",
       "      <td>...</td>\n",
       "      <td>...</td>\n",
       "      <td>...</td>\n",
       "      <td>...</td>\n",
       "      <td>...</td>\n",
       "      <td>...</td>\n",
       "      <td>...</td>\n",
       "      <td>...</td>\n",
       "      <td>...</td>\n",
       "    </tr>\n",
       "    <tr>\n",
       "      <th>10432</th>\n",
       "      <td>-0.128929</td>\n",
       "      <td>-0.040001</td>\n",
       "      <td>0.057807</td>\n",
       "      <td>0.557894</td>\n",
       "      <td>0.261718</td>\n",
       "      <td>-0.930856</td>\n",
       "      <td>-0.044076</td>\n",
       "      <td>1.158458</td>\n",
       "      <td>2.277968</td>\n",
       "      <td>-0.699884</td>\n",
       "      <td>X</td>\n",
       "    </tr>\n",
       "    <tr>\n",
       "      <th>10433</th>\n",
       "      <td>0.266074</td>\n",
       "      <td>0.556689</td>\n",
       "      <td>-0.020434</td>\n",
       "      <td>0.176624</td>\n",
       "      <td>0.261718</td>\n",
       "      <td>-0.515608</td>\n",
       "      <td>0.597681</td>\n",
       "      <td>0.178349</td>\n",
       "      <td>0.625350</td>\n",
       "      <td>-0.657245</td>\n",
       "      <td>G</td>\n",
       "    </tr>\n",
       "    <tr>\n",
       "      <th>10434</th>\n",
       "      <td>-0.054866</td>\n",
       "      <td>0.580242</td>\n",
       "      <td>0.032912</td>\n",
       "      <td>-0.016668</td>\n",
       "      <td>0.261718</td>\n",
       "      <td>1.519109</td>\n",
       "      <td>0.371178</td>\n",
       "      <td>-0.985508</td>\n",
       "      <td>-0.403638</td>\n",
       "      <td>1.276301</td>\n",
       "      <td>A</td>\n",
       "    </tr>\n",
       "    <tr>\n",
       "      <th>10435</th>\n",
       "      <td>0.080916</td>\n",
       "      <td>0.588093</td>\n",
       "      <td>0.015130</td>\n",
       "      <td>0.002250</td>\n",
       "      <td>0.261718</td>\n",
       "      <td>-0.930856</td>\n",
       "      <td>-0.270579</td>\n",
       "      <td>0.163807</td>\n",
       "      <td>-0.091823</td>\n",
       "      <td>-0.593329</td>\n",
       "      <td>F</td>\n",
       "    </tr>\n",
       "    <tr>\n",
       "      <th>10436</th>\n",
       "      <td>0.377169</td>\n",
       "      <td>0.014957</td>\n",
       "      <td>0.381439</td>\n",
       "      <td>0.292753</td>\n",
       "      <td>0.261718</td>\n",
       "      <td>-1.470679</td>\n",
       "      <td>-0.006326</td>\n",
       "      <td>-0.494919</td>\n",
       "      <td>-0.247731</td>\n",
       "      <td>-1.212974</td>\n",
       "      <td>H</td>\n",
       "    </tr>\n",
       "  </tbody>\n",
       "</table>\n",
       "<p>10437 rows × 11 columns</p>\n",
       "</div>"
      ],
      "text/plain": [
       "       intercolumnar_distance  upper_margin  lower_margin  exploitation  \\\n",
       "0                   -3.498799      0.250492      0.232070      1.224178   \n",
       "1                    0.204355     -0.354049      0.320980      0.410166   \n",
       "2                    0.759828     -1.304042     -0.023991     -0.973663   \n",
       "3                   -0.005490      0.360409      0.281860     -0.213479   \n",
       "4                    0.080916      0.101320      0.104040      0.140490   \n",
       "...                       ...           ...           ...           ...   \n",
       "10432               -0.128929     -0.040001      0.057807      0.557894   \n",
       "10433                0.266074      0.556689     -0.020434      0.176624   \n",
       "10434               -0.054866      0.580242      0.032912     -0.016668   \n",
       "10435                0.080916      0.588093      0.015130      0.002250   \n",
       "10436                0.377169      0.014957      0.381439      0.292753   \n",
       "\n",
       "       row_number   modular  interlinear_spacing    weight  peak_number  \\\n",
       "0       -4.922215  1.145386             0.182426 -0.165983    -0.123005   \n",
       "1       -0.989576 -2.218127             0.220177  0.181844     2.090879   \n",
       "2       -0.006417 -0.349509            -0.421580 -0.450127     0.469443   \n",
       "3       -1.168333 -1.013906            -0.346080  1.176165     0.968347   \n",
       "4        0.261718  0.480988             0.710932 -0.253430    -0.497183   \n",
       "...           ...       ...                  ...       ...          ...   \n",
       "10432    0.261718 -0.930856            -0.044076  1.158458     2.277968   \n",
       "10433    0.261718 -0.515608             0.597681  0.178349     0.625350   \n",
       "10434    0.261718  1.519109             0.371178 -0.985508    -0.403638   \n",
       "10435    0.261718 -0.930856            -0.270579  0.163807    -0.091823   \n",
       "10436    0.261718 -1.470679            -0.006326 -0.494919    -0.247731   \n",
       "\n",
       "       modular_ratio class  \n",
       "0           1.087144     W  \n",
       "1          -2.009758     A  \n",
       "2           0.060952     I  \n",
       "3          -0.627999     E  \n",
       "4           0.155681     A  \n",
       "...              ...   ...  \n",
       "10432      -0.699884     X  \n",
       "10433      -0.657245     G  \n",
       "10434       1.276301     A  \n",
       "10435      -0.593329     F  \n",
       "10436      -1.212974     H  \n",
       "\n",
       "[10437 rows x 11 columns]"
      ]
     },
     "execution_count": 3,
     "metadata": {},
     "output_type": "execute_result"
    }
   ],
   "source": [
    "columns_names=['intercolumnar_distance','upper_margin','lower_margin','exploitation','row_number','modular',\\\n",
    "               'interlinear_spacing','weight','peak_number','modular_ratio','class']\n",
    "  \n",
    "\n",
    "dataset = pd.read_csv('avila/avila-ts.txt',names=columns_names,na_values = \"?\", comment='\\t',\n",
    "                      sep=\",\", skipinitialspace=True)\n",
    "\n",
    "dataset"
   ]
  },
  {
   "cell_type": "markdown",
   "metadata": {},
   "source": [
    "## Data Processing"
   ]
  },
  {
   "cell_type": "code",
   "execution_count": 4,
   "metadata": {},
   "outputs": [],
   "source": [
    "y=dataset[['class']]\n",
    "dataset=dataset.drop(columns=['class'])\n",
    "X=dataset"
   ]
  },
  {
   "cell_type": "markdown",
   "metadata": {},
   "source": [
    "## Convert Categorical Columns into Numercial"
   ]
  },
  {
   "cell_type": "code",
   "execution_count": 5,
   "metadata": {
    "colab": {
     "base_uri": "https://localhost:8080/",
     "height": 35
    },
    "colab_type": "code",
    "id": "mpv95XJWhc1d",
    "outputId": "3a346070-89b0-40df-9e02-a9eae24b8288"
   },
   "outputs": [
    {
     "data": {
      "text/plain": [
       "array([9., 0., 8., ..., 0., 5., 7.])"
      ]
     },
     "execution_count": 5,
     "metadata": {},
     "output_type": "execute_result"
    }
   ],
   "source": [
    "ordinalencoder = OrdinalEncoder()\n",
    "ordinalencoder.fit(y)\n",
    "y = ordinalencoder.transform(y)\n",
    "y=y.flatten()\n",
    "y\n"
   ]
  },
  {
   "cell_type": "markdown",
   "metadata": {},
   "source": [
    "## Split Datat"
   ]
  },
  {
   "cell_type": "code",
   "execution_count": 10,
   "metadata": {},
   "outputs": [],
   "source": [
    "X_train, X_val, y_train, y_val = train_test_split(dataset, y, test_size=0.05, random_state=42)"
   ]
  },
  {
   "cell_type": "markdown",
   "metadata": {},
   "source": [
    "## Model Implementation"
   ]
  },
  {
   "cell_type": "code",
   "execution_count": 11,
   "metadata": {
    "colab": {
     "base_uri": "https://localhost:8080/",
     "height": 145
    },
    "colab_type": "code",
    "id": "u7o-P48YiGPy",
    "outputId": "c6c8d41b-3bd6-4dba-95d5-e5be1b5c7c58"
   },
   "outputs": [
    {
     "data": {
      "text/plain": [
       "XGBClassifier(base_score=0.5, booster='gbtree', colsample_bylevel=1,\n",
       "              colsample_bynode=1, colsample_bytree=1, gamma=0,\n",
       "              learning_rate=0.1, max_delta_step=0, max_depth=3,\n",
       "              min_child_weight=1, missing=None, n_estimators=100, n_jobs=1,\n",
       "              nthread=None, objective='multi:softprob', random_state=0,\n",
       "              reg_alpha=0, reg_lambda=1, scale_pos_weight=1, seed=None,\n",
       "              silent=None, subsample=1, verbosity=1)"
      ]
     },
     "execution_count": 11,
     "metadata": {},
     "output_type": "execute_result"
    }
   ],
   "source": [
    "model = XGBClassifier()\n",
    "model.fit(X_train, y_train)"
   ]
  },
  {
   "cell_type": "markdown",
   "metadata": {},
   "source": [
    "## Predict Output"
   ]
  },
  {
   "cell_type": "code",
   "execution_count": 12,
   "metadata": {
    "colab": {},
    "colab_type": "code",
    "id": "SrtILkhTIULN"
   },
   "outputs": [
    {
     "name": "stdout",
     "output_type": "stream",
     "text": [
      "              precision    recall  f1-score   support\n",
      "\n",
      "         0.0       0.93      0.87      0.90       244\n",
      "         2.0       1.00      0.80      0.89         5\n",
      "         3.0       1.00      1.00      1.00        20\n",
      "         4.0       0.93      0.96      0.95        56\n",
      "         5.0       0.70      0.85      0.77        84\n",
      "         6.0       0.71      0.67      0.69        15\n",
      "         7.0       0.95      0.87      0.91        23\n",
      "         8.0       1.00      1.00      1.00        36\n",
      "         9.0       1.00      1.00      1.00         3\n",
      "        10.0       1.00      1.00      1.00        24\n",
      "        11.0       1.00      1.00      1.00        12\n",
      "\n",
      "    accuracy                           0.89       522\n",
      "   macro avg       0.93      0.91      0.92       522\n",
      "weighted avg       0.90      0.89      0.89       522\n",
      "\n"
     ]
    }
   ],
   "source": [
    "prediction=model.predict(X_val)\n",
    "print(classification_report(prediction,y_val))"
   ]
  },
  {
   "cell_type": "markdown",
   "metadata": {},
   "source": [
    "## Feature Importance  "
   ]
  },
  {
   "cell_type": "code",
   "execution_count": 22,
   "metadata": {
    "colab": {
     "base_uri": "https://localhost:8080/",
     "height": 369
    },
    "colab_type": "code",
    "id": "8kW-T7zciq_U",
    "outputId": "ab58163c-adc6-4534-ae67-1e12d4b6ccff"
   },
   "outputs": [
    {
     "data": {
      "text/plain": [
       "[Text(0, 0.5, 'Importance'), Text(0.5, 0, 'Columns')]"
      ]
     },
     "execution_count": 22,
     "metadata": {},
     "output_type": "execute_result"
    },
    {
     "data": {
      "image/png": "[encoded data removed]",
      "text/plain": [
       "<Figure size 1080x360 with 1 Axes>"
      ]
     },
     "metadata": {
      "needs_background": "light"
     },
     "output_type": "display_data"
    }
   ],
   "source": [
    "indices = np.argsort(model.feature_importances_)[::-1]\n",
    "\n",
    "features = []\n",
    "for i in range(10):\n",
    "    features.append(X.columns[indices[i]])\n",
    "\n",
    "fig, ax = plt.subplots(figsize=(15,5))     \n",
    "\n",
    "sns.barplot(x=features, y=model.feature_importances_[indices[range(10)]],\\\n",
    "label=\"Importtant Categorical Features\", palette=(\"Blues_d\"),ax=ax).\\\n",
    "set_title('Categorical Features Importance')\n",
    "\n",
    "ax.set(xlabel=\"Columns\", ylabel = \"Importance\")"
   ]
  },
  {
   "cell_type": "markdown",
   "metadata": {},
   "source": [
    "## Model Implementation with Selected Features "
   ]
  },
  {
   "cell_type": "code",
   "execution_count": 14,
   "metadata": {},
   "outputs": [],
   "source": [
    "X_new=X[['intercolumnar_distance','upper_margin','lower_margin','exploitation','row_number','modular',\\\n",
    "               'interlinear_spacing','peak_number']]"
   ]
  },
  {
   "cell_type": "code",
   "execution_count": 15,
   "metadata": {
    "colab": {},
    "colab_type": "code",
    "id": "89x_iog49h3g"
   },
   "outputs": [],
   "source": [
    "X_train_new, X_val_new, y_train_new, y_val_new = train_test_split(X_new, y, test_size=0.05, random_state=42)"
   ]
  },
  {
   "cell_type": "code",
   "execution_count": 16,
   "metadata": {
    "colab": {
     "base_uri": "https://localhost:8080/",
     "height": 145
    },
    "colab_type": "code",
    "id": "HWeW7TOZ9oi3",
    "outputId": "02bce6f7-6646-481e-9e1a-2d7a9b84e656"
   },
   "outputs": [
    {
     "data": {
      "text/plain": [
       "XGBClassifier(base_score=0.5, booster='gbtree', colsample_bylevel=1,\n",
       "              colsample_bynode=1, colsample_bytree=1, gamma=0,\n",
       "              learning_rate=0.1, max_delta_step=0, max_depth=3,\n",
       "              min_child_weight=1, missing=None, n_estimators=100, n_jobs=1,\n",
       "              nthread=None, objective='multi:softprob', random_state=0,\n",
       "              reg_alpha=0, reg_lambda=1, scale_pos_weight=1, seed=None,\n",
       "              silent=None, subsample=1, verbosity=1)"
      ]
     },
     "execution_count": 16,
     "metadata": {},
     "output_type": "execute_result"
    }
   ],
   "source": [
    "model_sel_features = XGBClassifier()\n",
    "model_sel_features.fit(X_train_new, y_train_new)"
   ]
  },
  {
   "cell_type": "code",
   "execution_count": 17,
   "metadata": {
    "colab": {},
    "colab_type": "code",
    "id": "qF1K2xej9xIf"
   },
   "outputs": [
    {
     "name": "stdout",
     "output_type": "stream",
     "text": [
      "              precision    recall  f1-score   support\n",
      "\n",
      "         0.0       0.92      0.88      0.90       239\n",
      "         2.0       1.00      0.80      0.89         5\n",
      "         3.0       1.00      1.00      1.00        20\n",
      "         4.0       0.95      0.95      0.95        58\n",
      "         5.0       0.72      0.84      0.78        87\n",
      "         6.0       0.71      0.67      0.69        15\n",
      "         7.0       0.95      0.87      0.91        23\n",
      "         8.0       1.00      1.00      1.00        36\n",
      "         9.0       1.00      1.00      1.00         3\n",
      "        10.0       1.00      1.00      1.00        24\n",
      "        11.0       1.00      1.00      1.00        12\n",
      "\n",
      "    accuracy                           0.90       522\n",
      "   macro avg       0.93      0.91      0.92       522\n",
      "weighted avg       0.90      0.90      0.90       522\n",
      "\n"
     ]
    }
   ],
   "source": [
    "prediction=model_sel_features.predict(X_val_new)\n",
    "print(classification_report(prediction,y_val_new))"
   ]
  }
 ],
 "metadata": {
  "colab": {
   "collapsed_sections": [],
   "name": "Untitled7.ipynb",
   "provenance": []
  },
  "kernelspec": {
   "display_name": "Python 3",
   "language": "python",
   "name": "python3"
  },
  "language_info": {
   "codemirror_mode": {
    "name": "ipython",
    "version": 3
   },
   "file_extension": ".py",
   "mimetype": "text/x-python",
   "name": "python",
   "nbconvert_exporter": "python",
   "pygments_lexer": "ipython3",
   "version": "3.7.4"
  }
 },
 "nbformat": 4,
 "nbformat_minor": 1
}
